{
 "cells": [
  {
   "cell_type": "code",
   "execution_count": 1,
   "id": "223e0e9c-05a9-4740-b658-431b27798f8b",
   "metadata": {
    "execution": {
     "iopub.execute_input": "2025-04-09T01:31:14.922902Z",
     "iopub.status.busy": "2025-04-09T01:31:14.922646Z",
     "iopub.status.idle": "2025-04-09T01:31:14.933735Z",
     "shell.execute_reply": "2025-04-09T01:31:14.933043Z",
     "shell.execute_reply.started": "2025-04-09T01:31:14.922888Z"
    }
   },
   "outputs": [],
   "source": [
    "from ultralog import UltraLog"
   ]
  },
  {
   "cell_type": "code",
   "execution_count": 2,
   "id": "4b22dc6e-0c89-4225-ad8b-a88e8571e864",
   "metadata": {
    "execution": {
     "iopub.execute_input": "2025-04-09T01:31:15.399365Z",
     "iopub.status.busy": "2025-04-09T01:31:15.398761Z",
     "iopub.status.idle": "2025-04-09T01:31:15.404838Z",
     "shell.execute_reply": "2025-04-09T01:31:15.404002Z",
     "shell.execute_reply.started": "2025-04-09T01:31:15.399334Z"
    }
   },
   "outputs": [],
   "source": [
    "logger = UltraLog(console_output=True)"
   ]
  },
  {
   "cell_type": "code",
   "execution_count": 3,
   "id": "4b3f29c9-a5e1-4885-8993-281515425de5",
   "metadata": {
    "execution": {
     "iopub.execute_input": "2025-04-09T01:31:16.789580Z",
     "iopub.status.busy": "2025-04-09T01:31:16.789251Z",
     "iopub.status.idle": "2025-04-09T01:31:16.793353Z",
     "shell.execute_reply": "2025-04-09T01:31:16.792763Z",
     "shell.execute_reply.started": "2025-04-09T01:31:16.789557Z"
    }
   },
   "outputs": [
    {
     "name": "stderr",
     "output_type": "stream",
     "text": [
      "2025-04-09 09:31:16 - Logger - INFO - test\n"
     ]
    }
   ],
   "source": [
    "logger.info(\"test\")"
   ]
  },
  {
   "cell_type": "code",
   "execution_count": null,
   "id": "50eab43c-2a56-4f69-bc0f-7fc21d04e934",
   "metadata": {},
   "outputs": [],
   "source": [
    "python tests/test_concurrency.py\n",
    "=== 开始并发测试 ===\n",
    "2025-04-09 09:55:32 - Logger - INFO - Thread 3 config changed\n",
    "2025-04-09 09:55:32 - Logger - INFO - Thread 4 config changed\n",
    "2025-04-09 09:55:32 - Logger - INFO - Thread 9 config changed\n",
    "配置修改测试: 共写入10条日志\n",
    "多线程写入测试: 预期100000条, 实际100000条\n",
    "Traceback (most recent call last):\n",
    "  File \"/Users/guobingming/projects/ultralog/tests/test_concurrency.py\", line 116, in <module>\n",
    "    tester.run_all_tests()\n",
    "  File \"/Users/guobingming/projects/ultralog/tests/test_concurrency.py\", line 109, in run_all_tests\n",
    "    self.test_multiprocess_logging()\n",
    "  File \"/Users/guobingming/projects/ultralog/tests/test_concurrency.py\", line 92, in test_multiprocess_logging\n",
    "    p.start()\n",
    "  File \"/Users/guobingming/miniconda3/envs/llm/lib/python3.12/multiprocessing/process.py\", line 121, in start\n",
    "    self._popen = self._Popen(self)\n",
    "                  ^^^^^^^^^^^^^^^^^\n",
    "  File \"/Users/guobingming/miniconda3/envs/llm/lib/python3.12/multiprocessing/context.py\", line 224, in _Popen\n",
    "    return _default_context.get_context().Process._Popen(process_obj)\n",
    "           ^^^^^^^^^^^^^^^^^^^^^^^^^^^^^^^^^^^^^^^^^^^^^^^^^^^^^^^^^^\n",
    "  File \"/Users/guobingming/miniconda3/envs/llm/lib/python3.12/multiprocessing/context.py\", line 289, in _Popen\n",
    "    return Popen(process_obj)\n",
    "           ^^^^^^^^^^^^^^^^^^\n",
    "  File \"/Users/guobingming/miniconda3/envs/llm/lib/python3.12/multiprocessing/popen_spawn_posix.py\", line 32, in __init__\n",
    "    super().__init__(process_obj)\n",
    "  File \"/Users/guobingming/miniconda3/envs/llm/lib/python3.12/multiprocessing/popen_fork.py\", line 19, in __init__\n",
    "    self._launch(process_obj)\n",
    "  File \"/Users/guobingming/miniconda3/envs/llm/lib/python3.12/multiprocessing/popen_spawn_posix.py\", line 47, in _launch\n",
    "    reduction.dump(process_obj, fp)\n",
    "  File \"/Users/guobingming/miniconda3/envs/llm/lib/python3.12/multiprocessing/reduction.py\", line 60, in dump\n",
    "    ForkingPickler(file, protocol).dump(obj)\n",
    "AttributeError: Can't pickle local object 'ConcurrencyTest.test_multiprocess_logging.<locals>.process_worker'"
   ]
  },
  {
   "cell_type": "code",
   "execution_count": null,
   "id": "2e7e0867-05dd-4e8c-bf17-3ff3454f18d8",
   "metadata": {},
   "outputs": [],
   "source": []
  },
  {
   "cell_type": "code",
   "execution_count": null,
   "id": "97278f84-9479-4429-88e5-d85a9505a7a4",
   "metadata": {},
   "outputs": [],
   "source": []
  }
 ],
 "metadata": {
  "kernelspec": {
   "display_name": "Python 3 (ipykernel)",
   "language": "python",
   "name": "python3"
  },
  "language_info": {
   "codemirror_mode": {
    "name": "ipython",
    "version": 3
   },
   "file_extension": ".py",
   "mimetype": "text/x-python",
   "name": "python",
   "nbconvert_exporter": "python",
   "pygments_lexer": "ipython3",
   "version": "3.11.10"
  }
 },
 "nbformat": 4,
 "nbformat_minor": 5
}
