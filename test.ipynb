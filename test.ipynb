{
 "cells": [
  {
   "cell_type": "code",
   "execution_count": 5,
   "id": "223e0e9c-05a9-4740-b658-431b27798f8b",
   "metadata": {
    "execution": {
     "iopub.execute_input": "2025-04-09T05:18:52.104427Z",
     "iopub.status.busy": "2025-04-09T05:18:52.103806Z",
     "iopub.status.idle": "2025-04-09T05:18:52.108343Z",
     "shell.execute_reply": "2025-04-09T05:18:52.107689Z",
     "shell.execute_reply.started": "2025-04-09T05:18:52.104381Z"
    }
   },
   "outputs": [],
   "source": [
    "from ultralog import UltraLog"
   ]
  },
  {
   "cell_type": "code",
   "execution_count": 2,
   "id": "4b22dc6e-0c89-4225-ad8b-a88e8571e864",
   "metadata": {
    "execution": {
     "iopub.execute_input": "2025-04-09T05:07:30.718375Z",
     "iopub.status.busy": "2025-04-09T05:07:30.718250Z",
     "iopub.status.idle": "2025-04-09T05:07:30.720868Z",
     "shell.execute_reply": "2025-04-09T05:07:30.720509Z",
     "shell.execute_reply.started": "2025-04-09T05:07:30.718358Z"
    }
   },
   "outputs": [],
   "source": [
    "logger = UltraLog(console_output=True)"
   ]
  },
  {
   "cell_type": "code",
   "execution_count": 3,
   "id": "4b3f29c9-a5e1-4885-8993-281515425de5",
   "metadata": {
    "execution": {
     "iopub.execute_input": "2025-04-09T05:07:30.721986Z",
     "iopub.status.busy": "2025-04-09T05:07:30.721462Z",
     "iopub.status.idle": "2025-04-09T05:07:30.724779Z",
     "shell.execute_reply": "2025-04-09T05:07:30.724282Z",
     "shell.execute_reply.started": "2025-04-09T05:07:30.721972Z"
    }
   },
   "outputs": [
    {
     "name": "stderr",
     "output_type": "stream",
     "text": [
      "2025-04-09 13:07:30 - UltraLogger - INFO - test\n"
     ]
    }
   ],
   "source": [
    "logger.info(\"test\")"
   ]
  },
  {
   "cell_type": "code",
   "execution_count": 6,
   "id": "2e7e0867-05dd-4e8c-bf17-3ff3454f18d8",
   "metadata": {
    "execution": {
     "iopub.execute_input": "2025-04-09T05:18:54.030129Z",
     "iopub.status.busy": "2025-04-09T05:18:54.029460Z",
     "iopub.status.idle": "2025-04-09T05:18:54.039074Z",
     "shell.execute_reply": "2025-04-09T05:18:54.038356Z",
     "shell.execute_reply.started": "2025-04-09T05:18:54.030093Z"
    }
   },
   "outputs": [
    {
     "name": "stderr",
     "output_type": "stream",
     "text": [
      "2025-04-09 13:18:54 - UltraLogger - INFO - test\n"
     ]
    }
   ],
   "source": [
    "remote_logger = UltraLog(\n",
    "    server_url=\"http://127.0.0.1:8000\",\n",
    "    auth_token=\"default_token\"\n",
    ")\n",
    "remote_logger.info(\"test\")"
   ]
  },
  {
   "cell_type": "code",
   "execution_count": 3,
   "id": "e3d272e7-40ef-4192-ab13-809b8955c5db",
   "metadata": {
    "execution": {
     "iopub.execute_input": "2025-04-09T05:11:18.497522Z",
     "iopub.status.busy": "2025-04-09T05:11:18.497104Z",
     "iopub.status.idle": "2025-04-09T05:11:18.504341Z",
     "shell.execute_reply": "2025-04-09T05:11:18.503092Z",
     "shell.execute_reply.started": "2025-04-09T05:11:18.497493Z"
    }
   },
   "outputs": [
    {
     "data": {
      "text/plain": [
       "'DEBUG'"
      ]
     },
     "execution_count": 3,
     "metadata": {},
     "output_type": "execute_result"
    }
   ],
   "source": [
    "remote_logger.level"
   ]
  },
  {
   "cell_type": "code",
   "execution_count": 7,
   "id": "a3e76b94-b5ab-4bc5-8f01-053d4aabe32a",
   "metadata": {
    "execution": {
     "iopub.execute_input": "2025-04-09T05:18:57.013917Z",
     "iopub.status.busy": "2025-04-09T05:18:57.013424Z",
     "iopub.status.idle": "2025-04-09T05:18:57.022276Z",
     "shell.execute_reply": "2025-04-09T05:18:57.021814Z",
     "shell.execute_reply.started": "2025-04-09T05:18:57.013881Z"
    }
   },
   "outputs": [
    {
     "name": "stderr",
     "output_type": "stream",
     "text": [
      "2025-04-09 13:18:57 - UltraLogger - DEBUG - test\n"
     ]
    }
   ],
   "source": [
    "remote_logger.debug(\"test\")"
   ]
  },
  {
   "cell_type": "code",
   "execution_count": null,
   "id": "97278f84-9479-4429-88e5-d85a9505a7a4",
   "metadata": {},
   "outputs": [],
   "source": []
  }
 ],
 "metadata": {
  "kernelspec": {
   "display_name": "Python 3 (ipykernel)",
   "language": "python",
   "name": "python3"
  },
  "language_info": {
   "codemirror_mode": {
    "name": "ipython",
    "version": 3
   },
   "file_extension": ".py",
   "mimetype": "text/x-python",
   "name": "python",
   "nbconvert_exporter": "python",
   "pygments_lexer": "ipython3",
   "version": "3.12.2"
  }
 },
 "nbformat": 4,
 "nbformat_minor": 5
}
