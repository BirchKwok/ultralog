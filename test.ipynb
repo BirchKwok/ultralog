{
 "cells": [
  {
   "cell_type": "code",
   "execution_count": 1,
   "id": "00727d38-cc07-4f9f-a42e-be5a4cecc9f7",
   "metadata": {
    "execution": {
     "iopub.execute_input": "2025-04-21T14:40:14.287089Z",
     "iopub.status.busy": "2025-04-21T14:40:14.285640Z",
     "iopub.status.idle": "2025-04-21T14:40:14.310704Z",
     "shell.execute_reply": "2025-04-21T14:40:14.310296Z",
     "shell.execute_reply.started": "2025-04-21T14:40:14.287060Z"
    }
   },
   "outputs": [],
   "source": [
    "import loguru"
   ]
  },
  {
   "cell_type": "code",
   "execution_count": 2,
   "id": "4ed1469f-eea6-4bf7-a7b6-923ba96187c3",
   "metadata": {
    "execution": {
     "iopub.execute_input": "2025-04-21T14:40:15.278293Z",
     "iopub.status.busy": "2025-04-21T14:40:15.277335Z",
     "iopub.status.idle": "2025-04-21T14:40:15.282764Z",
     "shell.execute_reply": "2025-04-21T14:40:15.282358Z",
     "shell.execute_reply.started": "2025-04-21T14:40:15.278226Z"
    }
   },
   "outputs": [
    {
     "name": "stderr",
     "output_type": "stream",
     "text": [
      "\u001b[32m2025-04-21 22:40:15.279\u001b[0m | \u001b[1mINFO    \u001b[0m | \u001b[36m__main__\u001b[0m:\u001b[36m<module>\u001b[0m:\u001b[36m1\u001b[0m - \u001b[1mtest\u001b[0m\n",
      "\u001b[32m2025-04-21 22:40:15.280\u001b[0m | \u001b[1mINFO    \u001b[0m | \u001b[36m__main__\u001b[0m:\u001b[36m<module>\u001b[0m:\u001b[36m2\u001b[0m - \u001b[1mtest\u001b[0m\n"
     ]
    }
   ],
   "source": [
    "loguru.logger.info(\"test\")\n",
    "loguru.logger.info(\"test\")"
   ]
  },
  {
   "cell_type": "code",
   "execution_count": 3,
   "id": "6f82f2c3-47cc-4116-827d-5bc4f16760c8",
   "metadata": {
    "execution": {
     "iopub.execute_input": "2025-04-21T14:40:17.755205Z",
     "iopub.status.busy": "2025-04-21T14:40:17.754610Z",
     "iopub.status.idle": "2025-04-21T14:40:17.758874Z",
     "shell.execute_reply": "2025-04-21T14:40:17.758441Z",
     "shell.execute_reply.started": "2025-04-21T14:40:17.755154Z"
    }
   },
   "outputs": [
    {
     "name": "stderr",
     "output_type": "stream",
     "text": [
      "\u001b[32m2025-04-21 22:40:17.756\u001b[0m | \u001b[1mINFO    \u001b[0m | \u001b[36m__main__\u001b[0m:\u001b[36m<module>\u001b[0m:\u001b[36m1\u001b[0m - \u001b[1mtest\u001b[0m\n"
     ]
    }
   ],
   "source": [
    "loguru.logger.info(\"test\")"
   ]
  },
  {
   "cell_type": "code",
   "execution_count": 5,
   "id": "bde4bc4a-7b68-4394-a7f0-4d8da8980267",
   "metadata": {
    "execution": {
     "iopub.execute_input": "2025-04-26T09:08:40.242610Z",
     "iopub.status.busy": "2025-04-26T09:08:40.241927Z",
     "iopub.status.idle": "2025-04-26T09:08:40.743183Z",
     "shell.execute_reply": "2025-04-26T09:08:40.742660Z",
     "shell.execute_reply.started": "2025-04-26T09:08:40.242565Z"
    }
   },
   "outputs": [
    {
     "name": "stdout",
     "output_type": "stream",
     "text": [
      "2025-04-26 17:08:40.584233 | INFO     | test.py:<module>:4 - test\n",
      "\u001b[32m2025-04-26 17:08:40.618\u001b[0m | \u001b[1mINFO    \u001b[0m | \u001b[36m__main__\u001b[0m:\u001b[36m<module>\u001b[0m:\u001b[36m7\u001b[0m - \u001b[1mloguru test\u001b[0m\n"
     ]
    }
   ],
   "source": [
    "!python test.py"
   ]
  },
  {
   "cell_type": "code",
   "execution_count": null,
   "id": "3763e936-d25b-4135-8781-d87a80158524",
   "metadata": {},
   "outputs": [],
   "source": []
  },
  {
   "cell_type": "code",
   "execution_count": 3,
   "id": "223e0e9c-05a9-4740-b658-431b27798f8b",
   "metadata": {
    "execution": {
     "iopub.execute_input": "2025-04-26T09:08:10.874454Z",
     "iopub.status.busy": "2025-04-26T09:08:10.874201Z",
     "iopub.status.idle": "2025-04-26T09:08:10.877966Z",
     "shell.execute_reply": "2025-04-26T09:08:10.877451Z",
     "shell.execute_reply.started": "2025-04-26T09:08:10.874440Z"
    }
   },
   "outputs": [
    {
     "name": "stderr",
     "output_type": "stream",
     "text": [
      "2025-04-26 17:08:10.876197 | INFO     | __main__:<module>:4 - test\n"
     ]
    }
   ],
   "source": [
    "from ultralog import UltraLog\n",
    "logger = UltraLog()\n",
    "\n",
    "logger.info(\"test\")\n",
    "# 输出：2025-04-21 22:54:08.034647 | INFO     | __main__:<module>:1 - test\n",
    "# 但应该为：2025-04-21 22:54:08.034647 | INFO     | __main__:<module>:3 - test"
   ]
  },
  {
   "cell_type": "code",
   "execution_count": 4,
   "id": "4b3f29c9-a5e1-4885-8993-281515425de5",
   "metadata": {
    "execution": {
     "iopub.execute_input": "2025-04-26T09:08:13.678096Z",
     "iopub.status.busy": "2025-04-26T09:08:13.677634Z",
     "iopub.status.idle": "2025-04-26T09:08:13.682523Z",
     "shell.execute_reply": "2025-04-26T09:08:13.681773Z",
     "shell.execute_reply.started": "2025-04-26T09:08:13.678064Z"
    }
   },
   "outputs": [
    {
     "name": "stderr",
     "output_type": "stream",
     "text": [
      "2025-04-26 17:08:13.679495 | INFO     | __main__:<module>:1 - test\n",
      "2025-04-26 17:08:13.679495 | INFO     | __main__:<module>:2 - test\n"
     ]
    }
   ],
   "source": [
    "logger.info(\"test\")\n",
    "logger.info(\"test\")\n",
    "# 输出2025-04-19 07:57:38.972119 | INFO     | asyncio.events:_run:88 - test\n",
    "# 应该输出2025-04-19 07:57:38.972119 | INFO     | __main__:<module>:1 - test"
   ]
  },
  {
   "cell_type": "code",
   "execution_count": 6,
   "id": "2e7e0867-05dd-4e8c-bf17-3ff3454f18d8",
   "metadata": {
    "execution": {
     "iopub.execute_input": "2025-04-09T05:18:54.030129Z",
     "iopub.status.busy": "2025-04-09T05:18:54.029460Z",
     "iopub.status.idle": "2025-04-09T05:18:54.039074Z",
     "shell.execute_reply": "2025-04-09T05:18:54.038356Z",
     "shell.execute_reply.started": "2025-04-09T05:18:54.030093Z"
    }
   },
   "outputs": [
    {
     "name": "stderr",
     "output_type": "stream",
     "text": [
      "2025-04-09 13:18:54 - UltraLogger - INFO - test\n"
     ]
    }
   ],
   "source": [
    "remote_logger = UltraLog(\n",
    "    server_url=\"http://127.0.0.1:8000\",\n",
    "    auth_token=\"default_token\"\n",
    ")\n",
    "remote_logger.info(\"test\")"
   ]
  },
  {
   "cell_type": "code",
   "execution_count": 3,
   "id": "e3d272e7-40ef-4192-ab13-809b8955c5db",
   "metadata": {
    "execution": {
     "iopub.execute_input": "2025-04-09T05:11:18.497522Z",
     "iopub.status.busy": "2025-04-09T05:11:18.497104Z",
     "iopub.status.idle": "2025-04-09T05:11:18.504341Z",
     "shell.execute_reply": "2025-04-09T05:11:18.503092Z",
     "shell.execute_reply.started": "2025-04-09T05:11:18.497493Z"
    }
   },
   "outputs": [
    {
     "data": {
      "text/plain": [
       "'DEBUG'"
      ]
     },
     "execution_count": 3,
     "metadata": {},
     "output_type": "execute_result"
    }
   ],
   "source": [
    "remote_logger.level"
   ]
  },
  {
   "cell_type": "code",
   "execution_count": 7,
   "id": "a3e76b94-b5ab-4bc5-8f01-053d4aabe32a",
   "metadata": {
    "execution": {
     "iopub.execute_input": "2025-04-09T05:18:57.013917Z",
     "iopub.status.busy": "2025-04-09T05:18:57.013424Z",
     "iopub.status.idle": "2025-04-09T05:18:57.022276Z",
     "shell.execute_reply": "2025-04-09T05:18:57.021814Z",
     "shell.execute_reply.started": "2025-04-09T05:18:57.013881Z"
    }
   },
   "outputs": [
    {
     "name": "stderr",
     "output_type": "stream",
     "text": [
      "2025-04-09 13:18:57 - UltraLogger - DEBUG - test\n"
     ]
    }
   ],
   "source": [
    "remote_logger.debug(\"test\")"
   ]
  },
  {
   "cell_type": "code",
   "execution_count": null,
   "id": "97278f84-9479-4429-88e5-d85a9505a7a4",
   "metadata": {},
   "outputs": [],
   "source": []
  }
 ],
 "metadata": {
  "kernelspec": {
   "display_name": "Python 3 (ipykernel)",
   "language": "python",
   "name": "python3"
  },
  "language_info": {
   "codemirror_mode": {
    "name": "ipython",
    "version": 3
   },
   "file_extension": ".py",
   "mimetype": "text/x-python",
   "name": "python",
   "nbconvert_exporter": "python",
   "pygments_lexer": "ipython3",
   "version": "3.12.2"
  }
 },
 "nbformat": 4,
 "nbformat_minor": 5
}
